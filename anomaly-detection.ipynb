{
 "cells": [
  {
   "cell_type": "markdown",
   "metadata": {},
   "source": [
    "# Demostraciones prácticas de la entrega 2\n",
    "Este archivo está pensado para ser visualizado en un navegador web utilizando Voilà. Para ejecutarlo, se debe\n",
    "ejecutar la siguiente línea en una terminal:\n",
    "```bash\n",
    "voila anomaly-detection.ipynb\n",
    "```\n",
    "\n",
    "En caso de no tener instalado alguno de los paquetes necesarios, se puede descomentar la sección inferior.\n",
    "\n",
    "*Juan Francisco Mier Montoto, UO283319*"
   ]
  },
  {
   "cell_type": "code",
   "execution_count": 2,
   "metadata": {},
   "outputs": [],
   "source": [
    "# Para ejecutar los ejemplos, se necesitan las siguientes librerías:\n",
    "\n",
    "# %pip install pandas\n",
    "# %pip install matplotlib\n",
    "# %pip install numpy\n",
    "# %pip install scikit-learn\n",
    "# %pip install ipywidgets\n",
    "# %pip install voila"
   ]
  },
  {
   "cell_type": "code",
   "execution_count": 3,
   "metadata": {},
   "outputs": [],
   "source": [
    "import numpy as np\n",
    "import matplotlib.pyplot as plt\n",
    "from scipy.spatial import distance\n",
    "from sklearn.neighbors import KNeighborsClassifier, NearestNeighbors, LocalOutlierFactor\n",
    "from sklearn.datasets import make_blobs\n",
    "from ipywidgets import interact, interactive, fixed, interact_manual\n",
    "import ipywidgets as widgets"
   ]
  },
  {
   "cell_type": "markdown",
   "metadata": {},
   "source": [
    "****"
   ]
  },
  {
   "cell_type": "code",
   "execution_count": 4,
   "metadata": {},
   "outputs": [],
   "source": [
    "media, cov, n = np.array([0.01, 0.74]), np.array([[1.0, 0.5], [0.5, 1.0]]), 1000\n",
    "rng = np.random.default_rng(7401) # generador de números aleatorios\n",
    "data = rng.multivariate_normal(media, cov, n) # generación de muestras\n",
    "x, y = data.T # separación de las muestras en dos vectores"
   ]
  },
  {
   "cell_type": "markdown",
   "metadata": {},
   "source": [
    "## Ejemplo 1\n",
    "Demostración del funcionamiento de la distancia de Mahalanobis con distribuciones multivariantes."
   ]
  },
  {
   "cell_type": "code",
   "execution_count": 5,
   "metadata": {},
   "outputs": [
    {
     "data": {
      "application/vnd.jupyter.widget-view+json": {
       "model_id": "3250b45301194111b570e839b02d4159",
       "version_major": 2,
       "version_minor": 0
      },
      "text/plain": [
       "interactive(children=(FloatSlider(value=2.0, description='umbral', max=5.0), Output()), _dom_classes=('widget-…"
      ]
     },
     "metadata": {},
     "output_type": "display_data"
    },
    {
     "data": {
      "text/plain": [
       "<function __main__.plot_mahalanobis(umbral)>"
      ]
     },
     "execution_count": 5,
     "metadata": {},
     "output_type": "execute_result"
    }
   ],
   "source": [
    "def plot_mahalanobis(umbral):\n",
    "\tcov_inv = np.linalg.inv(cov) # inversa de la covarianza para calcular la distancia de Mahalanobis\n",
    "\n",
    "\tdist = [distance.mahalanobis(media, [x[i], y[i]], cov_inv) for i in range(n)]\n",
    "\n",
    "\t# dibujar el valor absoluto para las distancias y el umbral\n",
    "\tdist_abs = np.abs(dist)\n",
    "\tplt.title('Distancia absoluta de Mahalanobis')\n",
    "\tplt.plot(dist_abs, 'x')\n",
    "\tplt.axhline(y=umbral, color='r', linestyle='--', label='Umbral')\n",
    "\tplt.scatter(np.nonzero(dist_abs > umbral)[0], dist_abs[dist_abs > umbral], color='red', label='Anomalía')\n",
    "\tplt.legend()\n",
    "\tplt.show()\n",
    "\n",
    "\t# dibuajar el plot de las muestras originales coloreando las que están por encima del umbral\n",
    "\tplt.title('Muestras coloreadas por encima del umbral')\n",
    "\t# colorear las muestras \"normales\" en una escala según su distancia de Mahalanobis\n",
    "\tplt.scatter(x[dist_abs < umbral], y[dist_abs < umbral], c=dist_abs[dist_abs < umbral], cmap='viridis', label='Muestra normal')\n",
    "\tplt.colorbar()\n",
    "\tplt.scatter(x[dist_abs > umbral], y[dist_abs > umbral], color='red', label='Anomalía')\n",
    "\tplt.legend()\n",
    "\tplt.show()\n",
    "\n",
    "interact(plot_mahalanobis, umbral=(0, 5, 0.1))"
   ]
  },
  {
   "cell_type": "markdown",
   "metadata": {},
   "source": [
    "## Ejemplo 2\n",
    "Detección de anomalías basada en proximidad (knn)"
   ]
  },
  {
   "cell_type": "code",
   "execution_count": 6,
   "metadata": {},
   "outputs": [
    {
     "data": {
      "application/vnd.jupyter.widget-view+json": {
       "model_id": "b8a85531d44a4c948ba7d01f0a218733",
       "version_major": 2,
       "version_minor": 0
      },
      "text/plain": [
       "interactive(children=(IntSlider(value=7, description='k', max=10, min=5), FloatSlider(value=0.5, description='…"
      ]
     },
     "metadata": {},
     "output_type": "display_data"
    },
    {
     "data": {
      "text/plain": [
       "<function __main__.knn(k, threshold)>"
      ]
     },
     "execution_count": 6,
     "metadata": {},
     "output_type": "execute_result"
    }
   ],
   "source": [
    "def knn(k, threshold):\n",
    "\t# se calcula la distancia media de los k vecinos más cercanos\n",
    "\tneighbours = NearestNeighbors(n_neighbors=k).fit(data)\n",
    "\tdist, _ = neighbours.kneighbors(data)\n",
    "\tdist = np.mean(dist, axis=1)\n",
    "\n",
    "\t# se dibuja la distancia media de los k vecinos más cercanos y el umbral\n",
    "\tplt.plot(dist, 'x', color='purple')\n",
    "\tplt.title('Distancia media de los ' + str(k) + ' vecinos más cercanos')\n",
    "\tplt.axhline(y=threshold, color='r', linestyle='--', label='Umbral')\n",
    "\tplt.scatter(np.nonzero(dist > threshold)[0], dist[dist > threshold], color='orange', label='Anomalía')\n",
    "\tplt.legend()\n",
    "\tplt.show()\n",
    "\n",
    "\t# representación de las muestras coloreando las que están por encima del umbral\n",
    "\tplt.title('Muestras coloreadas por encima del umbral')\n",
    "\tplt.plot(x, y, 'x', color='green', label='Muestra normal')\n",
    "\tplt.plot(x[dist > threshold], y[dist > threshold], 'x', color='red', label='Muestra anómala')\n",
    "\n",
    "\t# se dibuja el radio de la circunferencia de los k vecinos más cercanos de las muestras anómalas\n",
    "\tfor i in np.nonzero(dist > threshold)[0]:\n",
    "\t\tcirc = plt.Circle((x[i], y[i]), dist[i], color='red', fill=False)\n",
    "\t\tplt.gcf().gca().add_artist(circ)\n",
    "\t\tcirc = plt.Circle((x[i], y[i]), threshold, color='black', fill=False, linestyle='--')\n",
    "\t\tplt.gcf().gca().add_artist(circ)\n",
    "\t\t# no sé cómo añadir la etiqueta de la circunferencia a la leyenda :(\n",
    "\tplt.plot(media[0], media[1], 'o', color='black', label='Media')\n",
    "\tplt.legend()\n",
    "\tplt.show()\n",
    "\n",
    "interact(knn, k=(5, 10, 1), threshold=(0.1, 1, 0.1))"
   ]
  },
  {
   "cell_type": "markdown",
   "metadata": {},
   "source": [
    "## Ejemplo 3\n",
    "Clasificación de anomalías con KNN y LOF"
   ]
  },
  {
   "cell_type": "code",
   "execution_count": 7,
   "metadata": {},
   "outputs": [
    {
     "data": {
      "application/vnd.jupyter.widget-view+json": {
       "model_id": "97b921f4a2024fb694669ab44ba3827e",
       "version_major": 2,
       "version_minor": 0
      },
      "text/plain": [
       "interactive(children=(IntSlider(value=7, description='k', max=10, min=5), FloatSlider(value=0.2, description='…"
      ]
     },
     "metadata": {},
     "output_type": "display_data"
    },
    {
     "data": {
      "text/plain": [
       "<function __main__.knn_class(k, threshold)>"
      ]
     },
     "execution_count": 7,
     "metadata": {},
     "output_type": "execute_result"
    }
   ],
   "source": [
    "def knn_class(k, threshold):\n",
    "\t# se calcula la distancia media de los k vecinos más cercanos\n",
    "\tneighbours = NearestNeighbors(n_neighbors=k).fit(data)\n",
    "\tdist, _ = neighbours.kneighbors(data)\n",
    "\tdist = np.mean(dist, axis=1)\n",
    "\n",
    "\t# se clasifican las muestras en normales y anómalas según el umbral\n",
    "\tlabels = np.zeros(n)\n",
    "\tlabels[dist > threshold] = 1\n",
    "\n",
    "\t# se crea un clasificador KNN para clasificar las muestras\n",
    "\tclf = KNeighborsClassifier(n_neighbors=k)\n",
    "\tclf.fit(data, labels)\n",
    "\n",
    "\t# se crea una malla para clasificar todas las muestras del plano\n",
    "\tx_min, x_max = x.min() - 1, x.max() + 1\n",
    "\ty_min, y_max = y.min() - 1, y.max() + 1\n",
    "\txx, yy = np.meshgrid(np.arange(x_min, x_max, 0.1), np.arange(y_min, y_max, 0.1))\n",
    "\tZ = clf.predict(np.c_[xx.ravel(), yy.ravel()])\n",
    "\tZ = Z.reshape(xx.shape)\n",
    "\n",
    "\t# se dibuja la malla y las muestras\n",
    "\tplt.contourf(xx, yy, Z, alpha=0.4)\n",
    "\tplt.scatter(x, y, c=labels, cmap='viridis')\n",
    "\tplt.title('Clasificación (KNN) de las muestras')\n",
    "\tplt.show()\n",
    "\n",
    "interact(knn_class, k=(5, 10, 1), threshold=(0.1, 0.3, 0.1))"
   ]
  },
  {
   "cell_type": "code",
   "execution_count": 8,
   "metadata": {},
   "outputs": [
    {
     "data": {
      "application/vnd.jupyter.widget-view+json": {
       "model_id": "32d523e9ec9e4826912ffd4d95a026c0",
       "version_major": 2,
       "version_minor": 0
      },
      "text/plain": [
       "interactive(children=(IntSlider(value=15, description='k', max=25, min=5), Output()), _dom_classes=('widget-in…"
      ]
     },
     "metadata": {},
     "output_type": "display_data"
    },
    {
     "data": {
      "text/plain": [
       "<function __main__.lof_class(k)>"
      ]
     },
     "execution_count": 8,
     "metadata": {},
     "output_type": "execute_result"
    }
   ],
   "source": [
    "def lof_class(k):\n",
    "\t# se crea un clasificador SVM para clasificar las muestras\n",
    "\tclf = LocalOutlierFactor(n_neighbors=k, novelty=True)\n",
    "\tclf.fit(data)\n",
    "\n",
    "\t# se crea una malla para clasificar todas las muestras del plano\n",
    "\tx_min, x_max = x.min() - 1, x.max() + 1\n",
    "\ty_min, y_max = y.min() - 1, y.max() + 1\n",
    "\txx, yy = np.meshgrid(np.arange(x_min, x_max, 0.1), np.arange(y_min, y_max, 0.1))\n",
    "\tZ = clf.predict(np.c_[xx.ravel(), yy.ravel()])\n",
    "\tZ = Z.reshape(xx.shape)\n",
    "\n",
    "\t# se dibuja la malla y las muestras\n",
    "\tplt.contourf(xx, yy, Z, alpha=0.4)\n",
    "\tplt.scatter(x, y, c=clf.predict(data), cmap='viridis')\n",
    "\tplt.title('Clasificación (LOF) de las muestras')\n",
    "\tplt.show()\n",
    "\n",
    "interact(lof_class, k=(5, 25, 1))"
   ]
  }
 ],
 "metadata": {
  "kernelspec": {
   "display_name": "Python 3",
   "language": "python",
   "name": "python3"
  },
  "language_info": {
   "codemirror_mode": {
    "name": "ipython",
    "version": 3
   },
   "file_extension": ".py",
   "mimetype": "text/x-python",
   "name": "python",
   "nbconvert_exporter": "python",
   "pygments_lexer": "ipython3",
   "version": "3.12.1"
  }
 },
 "nbformat": 4,
 "nbformat_minor": 2
}
