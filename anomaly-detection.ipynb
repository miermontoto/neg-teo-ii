{
 "cells": [
  {
   "cell_type": "markdown",
   "metadata": {},
   "source": [
    "# Demostraciones prácticas de la entrega 2\n",
    "Juan Francisco Mier Montoto, UO283319"
   ]
  },
  {
   "cell_type": "code",
   "execution_count": null,
   "metadata": {},
   "outputs": [],
   "source": [
    "# Para ejecutar los siguientes ejemplos, se necesitan las siguientes librerías\n",
    "# %pip install pandas\n",
    "# %pip install matplotlib\n",
    "# %pip install numpy\n",
    "# %pip install scikit-learn\n",
    "# %pip install ipywidgets"
   ]
  },
  {
   "cell_type": "code",
   "execution_count": 25,
   "metadata": {},
   "outputs": [],
   "source": [
    "import numpy as np\n",
    "import matplotlib.pyplot as plt\n",
    "from scipy.spatial import distance\n",
    "from sklearn.neighbors import KNeighborsClassifier, NearestNeighbors\n",
    "from ipywidgets import interact, interactive, fixed, interact_manual\n",
    "import ipywidgets as widgets"
   ]
  },
  {
   "cell_type": "markdown",
   "metadata": {},
   "source": [
    "****"
   ]
  },
  {
   "cell_type": "code",
   "execution_count": 31,
   "metadata": {},
   "outputs": [],
   "source": [
    "media, cov, n = np.array([0.01, 0.74]), np.array([[1.0, 0.5], [0.5, 1.0]]), 1000\n",
    "rng = np.random.default_rng(7401) # generador de números aleatorios\n",
    "data = rng.multivariate_normal(media, cov, n) # generación de muestras\n",
    "x, y = data.T # separación de las muestras en dos vectores"
   ]
  },
  {
   "cell_type": "markdown",
   "metadata": {},
   "source": [
    "## Ejemplo 1\n",
    "Demostración del funcionamiento de la distancia de Mahalanobis con distribuciones multivariantes."
   ]
  },
  {
   "cell_type": "code",
   "execution_count": 32,
   "metadata": {},
   "outputs": [
    {
     "data": {
      "application/vnd.jupyter.widget-view+json": {
       "model_id": "4e5ccf5e6f144d9d89f26f2bc9309668",
       "version_major": 2,
       "version_minor": 0
      },
      "text/plain": [
       "interactive(children=(FloatSlider(value=2.0, description='umbral', max=5.0), Output()), _dom_classes=('widget-…"
      ]
     },
     "metadata": {},
     "output_type": "display_data"
    },
    {
     "data": {
      "text/plain": [
       "<function __main__.plot_mahalanobis(media, cov, n, x, y, umbral)>"
      ]
     },
     "execution_count": 32,
     "metadata": {},
     "output_type": "execute_result"
    }
   ],
   "source": [
    "def plot_mahalanobis(media, cov, n, x, y, umbral):\n",
    "\tcov_inv = np.linalg.inv(cov) # inversa de la covarianza para calcular la distancia de Mahalanobis\n",
    "\n",
    "\tdist = [distance.mahalanobis(media, [x[i], y[i]], cov_inv) for i in range(n)]\n",
    "\n",
    "\t# dibujar el valor absoluto para las distancias y el umbral\n",
    "\tdist_abs = np.abs(dist)\n",
    "\tplt.title('Distancia absoluta de Mahalanobis')\n",
    "\tplt.plot(dist_abs, 'x')\n",
    "\tplt.axhline(y=umbral, color='r', linestyle='--', label='Umbral')\n",
    "\tplt.scatter(np.nonzero(dist_abs > umbral)[0], dist_abs[dist_abs > umbral], color='red', label='Anomalía')\n",
    "\tplt.legend()\n",
    "\tplt.show()\n",
    "\n",
    "\t# dibuajar el plot de las muestras originales coloreando las que están por encima del umbral\n",
    "\tplt.title('Muestras coloreadas por encima del umbral')\n",
    "\tplt.plot(x, y, 'x', color='purple', label='Muestra normal')\n",
    "\tplt.plot(x[np.abs(dist) > umbral], y[np.abs(dist) > umbral], 'x', color='orange', label='Muestra anómala')\n",
    "\tplt.legend()\n",
    "\tplt.show()\n",
    "\n",
    "interact(plot_mahalanobis, media=fixed(media), cov=fixed(cov), n=fixed(n), x=fixed(x), y=fixed(y), umbral=(0, 5, 0.1))"
   ]
  },
  {
   "cell_type": "markdown",
   "metadata": {},
   "source": [
    "## Ejemplo 2\n",
    "Detección de anomalías basada en proximidad (knn)"
   ]
  },
  {
   "cell_type": "code",
   "execution_count": 34,
   "metadata": {},
   "outputs": [
    {
     "data": {
      "application/vnd.jupyter.widget-view+json": {
       "model_id": "7d8a57d67be04ca7b297631670e9a45a",
       "version_major": 2,
       "version_minor": 0
      },
      "text/plain": [
       "interactive(children=(IntSlider(value=5, description='k', max=10, min=1), FloatSlider(value=2.0, description='…"
      ]
     },
     "metadata": {},
     "output_type": "display_data"
    },
    {
     "data": {
      "text/plain": [
       "<function __main__.knn(media, cov, n, data, k, threshold)>"
      ]
     },
     "execution_count": 34,
     "metadata": {},
     "output_type": "execute_result"
    }
   ],
   "source": [
    "def knn(media, cov, n, data, k, threshold):\n",
    "\tneighbours = NearestNeighbors(n_neighbors=k).fit(data)\n",
    "\tdist, _ = neighbours.kneighbors(data)\n",
    "\tdist = np.mean(dist, axis=1)\n",
    "\tplt.plot(dist, 'x')\n",
    "\tplt.axhline(y=threshold, color='r', linestyle='--', label='Umbral')\n",
    "\tplt.scatter(np.nonzero(dist > threshold)[0], dist[dist > threshold], color='red', label='Anomalía')\n",
    "\tplt.legend()\n",
    "\tplt.show()\n",
    "\n",
    "interact(knn, media=fixed(media), cov=fixed(cov), n=fixed(n), data=fixed(data), k=(1, 10, 1), threshold=(0, 5, 0.1))"
   ]
  }
 ],
 "metadata": {
  "kernelspec": {
   "display_name": "Python 3",
   "language": "python",
   "name": "python3"
  },
  "language_info": {
   "codemirror_mode": {
    "name": "ipython",
    "version": 3
   },
   "file_extension": ".py",
   "mimetype": "text/x-python",
   "name": "python",
   "nbconvert_exporter": "python",
   "pygments_lexer": "ipython3",
   "version": "3.12.1"
  }
 },
 "nbformat": 4,
 "nbformat_minor": 2
}
